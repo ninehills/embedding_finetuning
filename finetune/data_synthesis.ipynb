{
 "cells": [
  {
   "cell_type": "code",
   "execution_count": 4,
   "metadata": {},
   "outputs": [
    {
     "name": "stdout",
     "output_type": "stream",
     "text": [
      "Requirement already satisfied: qianfan==0.4.10.1 in /home/cynic/miniconda3/envs/embedding/lib/python3.10/site-packages (0.4.10.1)\n",
      "Requirement already satisfied: python-dotenv in /home/cynic/miniconda3/envs/embedding/lib/python3.10/site-packages (1.0.1)\n",
      "Requirement already satisfied: aiohttp>=3.7.0 in /home/cynic/miniconda3/envs/embedding/lib/python3.10/site-packages (from qianfan==0.4.10.1) (3.10.10)\n",
      "Requirement already satisfied: aiolimiter>=1.1.0 in /home/cynic/miniconda3/envs/embedding/lib/python3.10/site-packages (from qianfan==0.4.10.1) (1.1.0)\n",
      "Requirement already satisfied: bce-python-sdk>=0.8.79 in /home/cynic/miniconda3/envs/embedding/lib/python3.10/site-packages (from qianfan==0.4.10.1) (0.9.23)\n",
      "Requirement already satisfied: cachetools>=5.0.0 in /home/cynic/miniconda3/envs/embedding/lib/python3.10/site-packages (from qianfan==0.4.10.1) (5.5.0)\n",
      "Requirement already satisfied: diskcache>=5.6.3 in /home/cynic/miniconda3/envs/embedding/lib/python3.10/site-packages (from qianfan==0.4.10.1) (5.6.3)\n",
      "Requirement already satisfied: multiprocess>=0.70.12 in /home/cynic/miniconda3/envs/embedding/lib/python3.10/site-packages (from qianfan==0.4.10.1) (0.70.16)\n",
      "Requirement already satisfied: prompt-toolkit>=3.0.38 in /home/cynic/miniconda3/envs/embedding/lib/python3.10/site-packages (from qianfan==0.4.10.1) (3.0.48)\n",
      "Requirement already satisfied: pydantic>=1.0 in /home/cynic/miniconda3/envs/embedding/lib/python3.10/site-packages (from qianfan==0.4.10.1) (2.9.2)\n",
      "Requirement already satisfied: pyyaml<7.0.0,>=6.0.1 in /home/cynic/miniconda3/envs/embedding/lib/python3.10/site-packages (from qianfan==0.4.10.1) (6.0.2)\n",
      "Requirement already satisfied: requests>=2.24 in /home/cynic/miniconda3/envs/embedding/lib/python3.10/site-packages (from qianfan==0.4.10.1) (2.32.3)\n",
      "Requirement already satisfied: rich>=13.0.0 in /home/cynic/miniconda3/envs/embedding/lib/python3.10/site-packages (from qianfan==0.4.10.1) (13.9.3)\n",
      "Requirement already satisfied: tenacity<9.0.0,>=8.2.3 in /home/cynic/miniconda3/envs/embedding/lib/python3.10/site-packages (from qianfan==0.4.10.1) (8.5.0)\n",
      "Requirement already satisfied: typer>=0.9.0 in /home/cynic/miniconda3/envs/embedding/lib/python3.10/site-packages (from qianfan==0.4.10.1) (0.12.5)\n",
      "Requirement already satisfied: aiohappyeyeballs>=2.3.0 in /home/cynic/miniconda3/envs/embedding/lib/python3.10/site-packages (from aiohttp>=3.7.0->qianfan==0.4.10.1) (2.4.3)\n",
      "Requirement already satisfied: aiosignal>=1.1.2 in /home/cynic/miniconda3/envs/embedding/lib/python3.10/site-packages (from aiohttp>=3.7.0->qianfan==0.4.10.1) (1.3.1)\n",
      "Requirement already satisfied: attrs>=17.3.0 in /home/cynic/miniconda3/envs/embedding/lib/python3.10/site-packages (from aiohttp>=3.7.0->qianfan==0.4.10.1) (24.2.0)\n",
      "Requirement already satisfied: frozenlist>=1.1.1 in /home/cynic/miniconda3/envs/embedding/lib/python3.10/site-packages (from aiohttp>=3.7.0->qianfan==0.4.10.1) (1.5.0)\n",
      "Requirement already satisfied: multidict<7.0,>=4.5 in /home/cynic/miniconda3/envs/embedding/lib/python3.10/site-packages (from aiohttp>=3.7.0->qianfan==0.4.10.1) (6.1.0)\n",
      "Requirement already satisfied: yarl<2.0,>=1.12.0 in /home/cynic/miniconda3/envs/embedding/lib/python3.10/site-packages (from aiohttp>=3.7.0->qianfan==0.4.10.1) (1.16.0)\n",
      "Requirement already satisfied: async-timeout<5.0,>=4.0 in /home/cynic/miniconda3/envs/embedding/lib/python3.10/site-packages (from aiohttp>=3.7.0->qianfan==0.4.10.1) (4.0.3)\n",
      "Requirement already satisfied: pycryptodome>=3.8.0 in /home/cynic/miniconda3/envs/embedding/lib/python3.10/site-packages (from bce-python-sdk>=0.8.79->qianfan==0.4.10.1) (3.21.0)\n",
      "Requirement already satisfied: future>=0.6.0 in /home/cynic/miniconda3/envs/embedding/lib/python3.10/site-packages (from bce-python-sdk>=0.8.79->qianfan==0.4.10.1) (1.0.0)\n",
      "Requirement already satisfied: six>=1.4.0 in /home/cynic/miniconda3/envs/embedding/lib/python3.10/site-packages (from bce-python-sdk>=0.8.79->qianfan==0.4.10.1) (1.16.0)\n",
      "Requirement already satisfied: dill>=0.3.8 in /home/cynic/miniconda3/envs/embedding/lib/python3.10/site-packages (from multiprocess>=0.70.12->qianfan==0.4.10.1) (0.3.8)\n",
      "Requirement already satisfied: wcwidth in /home/cynic/miniconda3/envs/embedding/lib/python3.10/site-packages (from prompt-toolkit>=3.0.38->qianfan==0.4.10.1) (0.2.13)\n",
      "Requirement already satisfied: annotated-types>=0.6.0 in /home/cynic/miniconda3/envs/embedding/lib/python3.10/site-packages (from pydantic>=1.0->qianfan==0.4.10.1) (0.7.0)\n",
      "Requirement already satisfied: pydantic-core==2.23.4 in /home/cynic/miniconda3/envs/embedding/lib/python3.10/site-packages (from pydantic>=1.0->qianfan==0.4.10.1) (2.23.4)\n",
      "Requirement already satisfied: typing-extensions>=4.6.1 in /home/cynic/miniconda3/envs/embedding/lib/python3.10/site-packages (from pydantic>=1.0->qianfan==0.4.10.1) (4.11.0)\n",
      "Requirement already satisfied: charset-normalizer<4,>=2 in /home/cynic/miniconda3/envs/embedding/lib/python3.10/site-packages (from requests>=2.24->qianfan==0.4.10.1) (3.3.2)\n",
      "Requirement already satisfied: idna<4,>=2.5 in /home/cynic/miniconda3/envs/embedding/lib/python3.10/site-packages (from requests>=2.24->qianfan==0.4.10.1) (3.7)\n",
      "Requirement already satisfied: urllib3<3,>=1.21.1 in /home/cynic/miniconda3/envs/embedding/lib/python3.10/site-packages (from requests>=2.24->qianfan==0.4.10.1) (2.2.3)\n",
      "Requirement already satisfied: certifi>=2017.4.17 in /home/cynic/miniconda3/envs/embedding/lib/python3.10/site-packages (from requests>=2.24->qianfan==0.4.10.1) (2024.8.30)\n",
      "Requirement already satisfied: markdown-it-py>=2.2.0 in /home/cynic/miniconda3/envs/embedding/lib/python3.10/site-packages (from rich>=13.0.0->qianfan==0.4.10.1) (3.0.0)\n",
      "Requirement already satisfied: pygments<3.0.0,>=2.13.0 in /home/cynic/miniconda3/envs/embedding/lib/python3.10/site-packages (from rich>=13.0.0->qianfan==0.4.10.1) (2.18.0)\n",
      "Requirement already satisfied: click>=8.0.0 in /home/cynic/miniconda3/envs/embedding/lib/python3.10/site-packages (from typer>=0.9.0->qianfan==0.4.10.1) (8.1.7)\n",
      "Requirement already satisfied: shellingham>=1.3.0 in /home/cynic/miniconda3/envs/embedding/lib/python3.10/site-packages (from typer>=0.9.0->qianfan==0.4.10.1) (1.5.4)\n",
      "Requirement already satisfied: mdurl~=0.1 in /home/cynic/miniconda3/envs/embedding/lib/python3.10/site-packages (from markdown-it-py>=2.2.0->rich>=13.0.0->qianfan==0.4.10.1) (0.1.2)\n",
      "Requirement already satisfied: propcache>=0.2.0 in /home/cynic/miniconda3/envs/embedding/lib/python3.10/site-packages (from yarl<2.0,>=1.12.0->aiohttp>=3.7.0->qianfan==0.4.10.1) (0.2.0)\n",
      "Note: you may need to restart the kernel to use updated packages.\n"
     ]
    }
   ],
   "source": [
    "%pip install qianfan==0.4.10.1 python-dotenv"
   ]
  },
  {
   "cell_type": "code",
   "execution_count": 1,
   "metadata": {},
   "outputs": [
    {
     "data": {
      "text/plain": [
       "True"
      ]
     },
     "execution_count": 1,
     "metadata": {},
     "output_type": "execute_result"
    }
   ],
   "source": [
    "# load from .env QIANFAN_AK and QIANFAN_SK\n",
    "from dotenv import load_dotenv\n",
    "load_dotenv()"
   ]
  },
  {
   "cell_type": "code",
   "execution_count": 2,
   "metadata": {},
   "outputs": [],
   "source": [
    "import sys\n",
    "sys.path.append(\"..\")"
   ]
  },
  {
   "cell_type": "code",
   "execution_count": 3,
   "metadata": {},
   "outputs": [],
   "source": [
    "from eval.dataset import RAGDataset\n",
    "\n",
    "ds = RAGDataset.from_file(\"../data/airbench_qa_healthcare_zh.json\")"
   ]
  },
  {
   "cell_type": "code",
   "execution_count": 8,
   "metadata": {},
   "outputs": [],
   "source": [
    "from langchain_community.llms.baidu_qianfan_endpoint import QianfanLLMEndpoint\n",
    "from langchain_core.caches import InMemoryCache\n",
    "from langchain.globals import set_llm_cache\n",
    "\n",
    "# add llm cache to avoid duplicate calls\n",
    "set_llm_cache(InMemoryCache())\n",
    "\n",
    "llm = QianfanLLMEndpoint(\n",
    "    model=\"ERNIE-Speed-Pro-128K\",\n",
    "    temperature=0.001,\n",
    "    init_kwargs={\n",
    "        # https://cloud.baidu.com/doc/WENXINWORKSHOP/s/Llroa77io\n",
    "        \"request_per_minute\": 9000, \"token_per_minute\": 700000}\n",
    ")"
   ]
  },
  {
   "cell_type": "code",
   "execution_count": 9,
   "metadata": {},
   "outputs": [],
   "source": [
    "from langchain_core.language_models import LLM\n",
    "from langchain_core.output_parsers import JsonOutputParser\n",
    "from langchain_core.prompts import PromptTemplate\n",
    "from tqdm import tqdm\n",
    "import json\n",
    "\n",
    "QUESTIONS_GENERATE_PROMPT_TPL = \"\"\"\\\n",
    "上下文信息如下。\n",
    "---------------------\n",
    "{context_str}\n",
    "---------------------\n",
    "\n",
    "你是一位教师/教授。您的任务是为即将到来的测验/考试设置 {num_questions_per_chunk} 个问答对。\n",
    "\n",
    "- 这些问答对应在整个文档中均匀分布。\n",
    "- 将问题和答案限制在所提供的上下文信息中。\n",
    "- 每个问题只能包含一个提问点。\n",
    "- 仅根据上下文信息，而非先验知识。\n",
    "- 请以JSON格式输出问答对，\"问题\" 和 \"答案\" 为字段，必须严格遵守 JSON 格式，格式如下：\n",
    "\n",
    "```json\n",
    "[\n",
    "  {{\"问题\": \"问题1\", \"答案\": \"答案1\"}},\n",
    "  {{\"问题\": \"问题2\", \"答案\": \"答案2\"}},\n",
    "  ...\n",
    "]\n",
    "```\n",
    "\"\"\"\n",
    "\n",
    "chain = PromptTemplate.from_template(QUESTIONS_GENERATE_PROMPT_TPL) | llm | JsonOutputParser()"
   ]
  },
  {
   "cell_type": "code",
   "execution_count": 11,
   "metadata": {},
   "outputs": [
    {
     "data": {
      "text/plain": [
       "[{'问题': '激光去痘印的原理是什么？',\n",
       "  '答案': '激光去痘印的原理是应用激光仪产生的高强度的光束，激光类型不同产生光线颜色不同。这种去痘印方法采用的激光是治疗的关键。通过激光能量令染料颗粒崩解汽化，封闭血管，再由身体吸收染料颗粒将其排除体外，色素随之消退。'},\n",
       " {'问题': '激光去痘印的价格范围是多少？',\n",
       "  '答案': '医院祛痘印的价格一般是不贵的，大概的手术的价格3000元-6000元，手术费用的多少与你所选择的医院的收费标准及手术面积的严重程度有关。'},\n",
       " {'问题': '激光去痘印需要多长时间才能看到效果？', '答案': '激光去痘印一般1~3个月看到效果，需要多次激光治疗。'},\n",
       " {'问题': '激光治疗痤疮疤痕能减少哪些皮肤缺陷？', '答案': '激光治疗痤疮疤痕能减少皱纹等皮肤缺陷。'},\n",
       " {'问题': '皮秒激光祛痘印有什么特点？',\n",
       "  '答案': '皮秒激光祛痘印是一种纯物理的治疗方式，不对皮肤没有任何刺激，没有光敏现象，激光对正常的周围皮肤是不产生作用，治疗过程轻松，无任何痛苦。'},\n",
       " {'问题': '皮秒激光祛痘印后皮肤颜色会如何变化？',\n",
       "  '答案': '治疗后皮肤的颜色会变得越来越接近正常皮肤颜色，个别可能会比正常的皮肤颜色深一些。再经过几个月的恢复后，会和原来的皮肤颜色差不多。'},\n",
       " {'问题': '激光治疗痤疮疤痕后需要特殊护理吗？', '答案': '激光治疗痤疮疤痕后不需要特殊护理，但应避免强烈日晒和紫外线照射。'},\n",
       " {'问题': '激光去痘印能够直接穿透到哪里？', '答案': '激光去痘印能够直接穿透的部位形成矩阵状的小白点。'},\n",
       " {'问题': '小白点周围的皮肤在多长时间内会愈合？', '答案': '小白点周围的皮肤立即启动横向修复机制，在8小时以内表皮就会完全愈合。'},\n",
       " {'问题': '激光去痘印手术需要多长时间恢复？', '答案': '几天左右，小白点处的痂皮脱落，皮肤恢复正常外观。'}]"
      ]
     },
     "execution_count": 11,
     "metadata": {},
     "output_type": "execute_result"
    }
   ],
   "source": [
    "chain.invoke(dict(\n",
    "    context_str=ds.corpus[list(ds.corpus.keys())[0]],\n",
    "    num_questions_per_chunk=10\n",
    "))"
   ]
  },
  {
   "cell_type": "code",
   "execution_count": 12,
   "metadata": {},
   "outputs": [
    {
     "name": "stderr",
     "output_type": "stream",
     "text": []
    },
    {
     "name": "stdout",
     "output_type": "stream",
     "text": [
      "doc-210325 API调用失败: Invalid json output: ```json\n",
      "[\n",
      "  {\"问题\": \"婴儿智力低下的早期表现有哪些？\", \"答案\": \"婴儿智力低下的早期表现包括：1. 出生后几个月的婴儿非常老实、安静、不哭不闹，整天昏昏欲睡。2. 出生2个月还不会笑。3. 两只眼睛对周围的人和物视而不见，无反应、无兴趣。4. 对周围的声音缺乏反应。5. 正常婴儿3～5个月时，常常会在眼前玩弄自己的双手，反复端详，6个月后便逐渐消失，而智力低下婴儿6个月以后还继续存在这种动作。6. 正常婴儿6个月以后喂他固体食物时，就会反射性地产生咀嚼动作，而智力低下婴儿很晚才会咀嚼。7. 二三岁时，还常常把玩具、积木放在口里。8. 三四岁后还常常流口水。9. 清醒时也出现磨牙动作。10. 笑声发直，音调缺乏变化。\"}\n",
      "  {\"问题\": \"婴儿智力低下时，会表现出怎样的睡眠习惯？\", \"答案\": \"婴儿智力低下时，可能会表现为非常老实、安静、不哭不闹，整天昏昏欲睡。\"}\n",
      "  {\"问题\": \"婴儿出生多久后不会笑可能是智力低下的表现？\", \"答案\": \"婴儿出生2个月还不会笑可能是智力低下的表现。\"}\n",
      "  {\"问题\": \"智力低下的婴儿对周围的声音会有什么反应？\", \"答案\": \"智力低下的婴儿对周围的声音缺乏反应。\"}\n",
      "  {\"问题\": \"正常婴儿在多大时会在眼前玩弄自己的双手并消失？\", \"答案\": \"正常婴儿3～5个月时，常常会在眼前玩弄自己的双手，反复端详，6个月后便逐渐消失。\"}\n",
      "  {\"问题\": \"智力低下的婴儿在多大时还会玩弄自己的双手？\", \"答案\": \"智力低下婴儿6个月以后还继续存在这种玩弄自己双手的动作。\"}\n",
      "  {\"问题\": \"正常婴儿在多大时会开始产生咀嚼动作？\", \"答案\": \"正常婴儿6个月以后喂他固体食物时，就会反射性地产生咀嚼动作。\"}\n",
      "  {\"问题\": \"智力低下的婴儿在多大才会开始咀嚼？\", \"答案\": \"智力低下婴儿很晚才会咀嚼。\"}\n",
      "  {\"问题\": \"智力低下的幼儿在多大时还会把玩具或积木放在口里？\", \"答案\": \"二三岁时，智力低下的幼儿还常常把玩具、积木放在口里。\"}\n",
      "  {\"问题\": \"智力低下的幼儿在多大后还会流口水？\", \"答案\": \"三四岁后，智力低下的幼儿还常常流口水。\"}\n",
      "]\n",
      "```\n",
      "For troubleshooting, visit: https://python.langchain.com/docs/troubleshooting/errors/OUTPUT_PARSING_FAILURE\n"
     ]
    },
    {
     "name": "stderr",
     "output_type": "stream",
     "text": []
    },
    {
     "name": "stdout",
     "output_type": "stream",
     "text": [
      "doc-125140 API调用失败: Invalid json output: ```json\n",
      "[\n",
      "  {\"问题\": \"阴道分泌物通常是什么颜色？\", \"答案\": \"阴道分泌物通常为白色、淡黄色或绿色。\"},\n",
      "  {\"问题\": \"阴道分泌物可能由什么引起？\", \"答案\": \"阴道分泌物可能是由不同时期的月经周期引起，也可能是由感染引起，比如性传播疾病。\"},\n",
      "  {\"问题\": \"医学术语“粘液溢出”指的是什么？\", \"答案\": \"“粘液溢出”是指从尿道或阴道流出的黏液分泌物。\"},\n",
      "  {\"问题\": \"“粘液过量溢出”通常指的是什么？\", \"答案\": \"“粘液过量溢出”是指黏液分泌物分泌过量，通常特别指的是在淋病中。\"},\n",
      "  {\"问题\": \"淋病中的“粘液过量溢出”是什么症状？\", \"答案\": \"在淋病中，“粘液过量溢出”是症状之一，表现为黏液分泌物分泌过量。\"},\n",
      "  {\"问题\": \"阴道分泌物可能有哪些颜色？\", \"答案\": \"阴道分泌物可能有的颜色包括白色、淡黄色或绿色。\"},\n",
      "  {\"问题\": \"哪些情况下阴道分泌物可能是正常的？\", \"答案\": \"大多数的阴道分泌物都是正常并反映出不同时期的月经周期。\"},\n",
      "  {\"问题\": \"哪些情况下阴道分泌物可能是异常的？\", \"答案\": \"一些阴道分泌物可能是因为感染引起，比如性传播疾病，这种情况下阴道分泌物可能是异常的。\"},\n",
      "  {\"问题\": \"什么是“粘液溢出”的医学定义？\", \"答案\": \"“粘液溢出”是指从尿道或阴道流出的黏液分泌物。\"},\n",
      "  {\"问题\": “粘液过量溢出”与什么疾病有关？\", \"答案\": “粘液过量溢出”通常与淋病有关，是淋病的一种症状。\"}\n",
      "]\n",
      "```\n",
      "For troubleshooting, visit: https://python.langchain.com/docs/troubleshooting/errors/OUTPUT_PARSING_FAILURE\n"
     ]
    },
    {
     "name": "stderr",
     "output_type": "stream",
     "text": []
    },
    {
     "name": "stdout",
     "output_type": "stream",
     "text": [
      "doc-15217 API调用失败: Invalid json output: ```json\n",
      "[\n",
      "  {\"问题\": \"静注时为何需要缓慢进行？\", \"答案\": \"静注宜缓慢，以免引起头晕、头胀、胸闷及低血压等。\"},\n",
      "  {\"问题\": \"哪些疾病的患者在发病期应慎用静注？\", \"答案\": \"心肌梗死和脑出血在发病期的患者。\"},\n",
      "  {\"问题\": \"静注过程中可能引起哪些症状？\", \"答案\": \"头晕、头胀、胸闷及低血压等。\"},\n",
      "  {\"问题\": \"为何心肌梗死和脑出血患者要慎用静注？\", \"答案\": \"未提及具体理由，但指出这类患者在发病期应慎用。\"},\n",
      "  {\"问题\": \"静注过程中出现的头晕、头胀等症状与什么有关？, \"答案\": \"与注射速度过快有关。\"},\n",
      "  {\"问题\": \"静注过程中出现的低血压与什么有关？\", \"答案\": \"与注射速度过快有关。\"},\n",
      "  {\"问题\": \"哪些情况下需要特别注意静注的速度？, \"答案\": \"在心肌梗死和脑出血发病期，以及一般静注时都需特别注意速度。\"},\n",
      "  {\"问题\": \"静注过程中为何会出现胸闷？\", \"答案\": \"可能与注射速度过快导致的不良反应有关。\"},\n",
      "  {\"问题\": \"静注过程中出现的头胀可能与什么有关？\", \"答案\": \"可能与注射速度过快导致的不良反应有关。\"},\n",
      "  {\"问题\": \"静注过程中出现的头晕可能与什么有关？\", \"答案\": \"可能与注射速度过快导致的不良反应有关。\"}\n",
      "]\n",
      "```\n",
      "For troubleshooting, visit: https://python.langchain.com/docs/troubleshooting/errors/OUTPUT_PARSING_FAILURE\n"
     ]
    },
    {
     "name": "stderr",
     "output_type": "stream",
     "text": [
      "100%|██████████| 1000/1000 [09:02<00:00,  1.84it/s]\n"
     ]
    }
   ],
   "source": [
    "# Batch invoke and fault tolerance\n",
    "# 测试时可以改成5 \n",
    "CORPUS_SAMPLE_SIZE = 1000\n",
    "import random\n",
    "random.seed(42)\n",
    "# 从 corpus 中随机选择 1000 个文档，每个文档生成 10 个问答对\n",
    "corpus_sample = random.sample(list(ds.corpus.items()), CORPUS_SAMPLE_SIZE)\n",
    "\n",
    "from concurrent.futures import ThreadPoolExecutor\n",
    "\n",
    "def generate_questions(args):\n",
    "    corpus_id, corpus_content = args['corpus']\n",
    "    num_questions_per_chunk = args['num_questions_per_chunk']\n",
    "    try:\n",
    "        ret = chain.invoke(dict(\n",
    "            context_str=corpus_content,\n",
    "            num_questions_per_chunk=num_questions_per_chunk\n",
    "        ))\n",
    "    except Exception as e:\n",
    "        print(f\"{corpus_id} API调用失败: {e}\")\n",
    "        return dict(corpus_id=corpus_id, questions=[], answer=[])\n",
    "    questions = []\n",
    "    answers = []\n",
    "    for qa in ret:\n",
    "        # [{'问题': '什么类型的激光适合治疗不同的痘印？', '答案': '不同类型的激光产生不同颜色光线，适合治疗不同类型的痘印。选择适合的激光类型需要根据个人肤质和痘印情况由专业医生进行判断。'}]]\n",
    "        if qa and qa.get('问题') and qa.get('答案'):\n",
    "            questions.append(qa['问题'])\n",
    "            answers.append(qa['答案'])\n",
    "    return dict(corpus_id=corpus_id, questions=questions, answer=answers)\n",
    "    \n",
    "\n",
    "# 10 并发调用\n",
    "with ThreadPoolExecutor(max_workers=20) as executor:\n",
    "    futures = [\n",
    "        executor.submit(generate_questions, dict(corpus=corpus, num_questions_per_chunk=10))\n",
    "        for corpus in corpus_sample\n",
    "    ]\n",
    "    results = [future.result() for future in tqdm(futures, total=len(corpus_sample))]"
   ]
  },
  {
   "cell_type": "code",
   "execution_count": 13,
   "metadata": {},
   "outputs": [
    {
     "data": {
      "text/plain": [
       "[{'corpus_id': 'doc-335243',\n",
       "  'questions': ['脂溢性皮炎主要发生在哪些区域？',\n",
       "   '脂溢性皮炎的发病机制可能与哪些因素有关？',\n",
       "   '糠P孢子菌在脂溢性皮炎中起什么作用？',\n",
       "   '精神因素如何影响脂溢性皮炎的发生和发展？',\n",
       "   '全身性和难治性脂溢性皮炎可能是哪种感染的皮肤症状？',\n",
       "   '牛皮癣病变的重要特征是什么？',\n",
       "   '玫瑰糠疹通常发生在哪些部位？',\n",
       "   '玫瑰糠疹的母斑有什么特点？',\n",
       "   '体癣的病变特征是什么？',\n",
       "   '红斑性天疱疮主要分布在哪些部位？'],\n",
       "  'answer': ['脂溢性皮炎主要发生在富含皮脂腺的区域，例如头部，躯干等。',\n",
       "   '脂溢性皮炎的发病机制可能与脂溢性，微生物，神经递质异常，生理和气候因素，营养缺乏和药物的作用有关。',\n",
       "   '糠P孢子菌，特别是卵形糠P孢子菌，在脂溢性皮炎的发病机理中起重要作用。',\n",
       "   '精神因素可能对脂溢性皮炎的发生和发展产生一定的影响。',\n",
       "   '全身性和难治性脂溢性皮炎可能是HIV感染的重要皮肤症状。',\n",
       "   '牛皮癣病变的重要特征是刮擦鳞片具有薄膜现象和出血现象。',\n",
       "   '玫瑰糠疹通常发生在颈部，躯干和四肢的近端部分。',\n",
       "   '玫瑰糠疹的母斑逐渐变大，直径为2-5厘米或更大，有时2-3个母斑可以同时出现。',\n",
       "   '体癣的病变边缘抬高并变窄，边界清晰，并且有一个圆形损伤，中央愈合延伸到周围区域。',\n",
       "   '红斑性天疱疮主要分布在面部，颈部，胸部和背部中间。']}]"
      ]
     },
     "execution_count": 13,
     "metadata": {},
     "output_type": "execute_result"
    }
   ],
   "source": [
    "results[:1]"
   ]
  },
  {
   "cell_type": "code",
   "execution_count": 14,
   "metadata": {},
   "outputs": [],
   "source": [
    "# save middle results\n",
    "with open(\"../data/airbench_qa_healthcare_zh_questions.json\", \"w\") as f:\n",
    "    json.dump(results, f, ensure_ascii=False)\n",
    "\n",
    "# load middle results\n",
    "with open(\"../data/airbench_qa_healthcare_zh_questions.json\", \"r\") as f:\n",
    "    results = json.load(f)"
   ]
  },
  {
   "cell_type": "code",
   "execution_count": 15,
   "metadata": {},
   "outputs": [],
   "source": [
    "# add to dataset train split\n",
    "if 'train' not in ds.queries_split:\n",
    "    ds.queries_split['train'] = []\n",
    "for result in results:\n",
    "    for i, (question, answer) in enumerate(zip(result['questions'], result['answer'])):\n",
    "        if len(question) > 5 and len(answer) > 5:\n",
    "            query_id = f\"q-{result['corpus_id']}-{i}\"\n",
    "            ds.queries[query_id] = question\n",
    "            ds.queries_split['train'].append(query_id)\n",
    "            ds.relevant_docs[query_id] = [result['corpus_id']]\n",
    "            ds.reference_answers[query_id] = answer\n",
    "\n",
    "ds.save(\"../data/airbench_qa_healthcare_zh_synthesis.json\")"
   ]
  },
  {
   "cell_type": "code",
   "execution_count": 16,
   "metadata": {},
   "outputs": [
    {
     "data": {
      "text/plain": [
       "9810"
      ]
     },
     "execution_count": 16,
     "metadata": {},
     "output_type": "execute_result"
    }
   ],
   "source": [
    "len(ds.queries_split['train'])"
   ]
  }
 ],
 "metadata": {
  "kernelspec": {
   "display_name": "embedding",
   "language": "python",
   "name": "python3"
  },
  "language_info": {
   "codemirror_mode": {
    "name": "ipython",
    "version": 3
   },
   "file_extension": ".py",
   "mimetype": "text/x-python",
   "name": "python",
   "nbconvert_exporter": "python",
   "pygments_lexer": "ipython3",
   "version": "3.10.15"
  }
 },
 "nbformat": 4,
 "nbformat_minor": 2
}
