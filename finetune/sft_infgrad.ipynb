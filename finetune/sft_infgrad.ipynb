{
 "cells": [
  {
   "cell_type": "code",
   "execution_count": 5,
   "metadata": {},
   "outputs": [],
   "source": [
    "import sys\n",
    "sys.path.append(\"..\")\n"
   ]
  },
  {
   "cell_type": "code",
   "execution_count": 6,
   "metadata": {},
   "outputs": [],
   "source": [
    "import datasets\n",
    "from sentence_transformers import (\n",
    "    SentenceTransformer,\n",
    "    SentenceTransformerTrainer,\n",
    "    SentenceTransformerTrainingArguments,\n",
    ")\n",
    "from sentence_transformers.losses import MultipleNegativesRankingLoss\n",
    "from sentence_transformers.training_args import BatchSamplers"
   ]
  },
  {
   "cell_type": "code",
   "execution_count": 7,
   "metadata": {},
   "outputs": [],
   "source": [
    "# 1. Load a model to finetune\n",
    "model = SentenceTransformer(\n",
    "    \"BAAI/bge-small-zh-v1.5\"\n",
    ")"
   ]
  },
  {
   "cell_type": "code",
   "execution_count": 13,
   "metadata": {},
   "outputs": [],
   "source": [
    "from eval.dataset import RAGDataset\n",
    "dataset = RAGDataset.from_file(\"../data/infgrad_retrieval_data_llm.json\")\n",
    "train_dataset, dataset_keys = dataset.get_train_dataset(split=\"train\", negative_num=1, query_instruction_for_retrieval=\"为这个句子生成表示以用于检索相关文章：\")\n",
    "eval_dataset, _ = dataset.get_train_dataset(split=\"val\", negative_num=1, query_instruction_for_retrieval=\"为这个句子生成表示以用于检索相关文章：\")"
   ]
  },
  {
   "cell_type": "code",
   "execution_count": 14,
   "metadata": {},
   "outputs": [
    {
     "name": "stdout",
     "output_type": "stream",
     "text": [
      "{'query': '为这个句子生成表示以用于检索相关文章：美国旅游签证政策', 'pos': '美国旅游签证政策介绍：\\n美国旅游签证（B-2 签证）是用于旅游、休闲和医疗等目的的签证。申请者需要向美国大使馆或领事馆提交 DS-160 表格，并支付相应的签证申请费用。\\n\\n对于旅游签证，申请者需要提供个人旅行计划、财务证明、护照以及其他支持文件。此外，申请者可能需要参加面试。\\n\\n美国旅游签证的有效期通常为六个月，但具体有效期将根据申请者的国籍和护照类型而定。持有 B-2 签证的游客可以在美国停留最多六个月，但这需要美国入境口岸的官员批准。\\n\\n值得注意的是，虽然 B-2 签证允许旅游和休闲活动，但禁止在美从事任何有偿工作。如果游客想要在美国工作，他们需要申请其他类型的签证。\\n\\n此外，受 COVID-19 疫情影响，美国旅游签证政策可能会有所变动。因此，申请者应该在计划前往美国之前，查阅最新的签证政策和入境要求。\\n\\n总的来说，美国旅游签证政策旨在允许外籍游客进入美国进行旅游和休闲活动，同时也确保了国家安全和经济利益。申请者需要准备好所有必要的文件，并了解最新的政策变化，以确保他们的旅行计划顺利进行。', 'neg_0': '英国旅游签证政策介绍：\\n英国旅游签证（Standard Visitor visa）是用于旅游、休闲、参加商务会议、短期学习和医疗等目的的签证。申请者需要填写在线申请表并支付签证申请费用。\\n\\n英国旅游签证通常有效期为六个月，但最长可达两年。持有该签证的游客可以在英国停留最长六个月。\\n\\n申请者需要提供行程计划、住宿证明、财务证明以及其他支持文件。此外，申请者可能需要参加面试。\\n\\n值得注意的是，尽管英国旅游签证允许游客进行多种活动，但禁止在英从事任何有偿工作。如果游客想要在英国工作，他们需要申请其他类型的签证。\\n\\n由于英国脱欧，英国旅游签证政策可能会有所变动。因此，申请者应该在计划前往英国之前，查阅最新的签证政策和入境要求。\\n\\n总的来说，英国旅游签证政策旨在允许外籍游客进入英国进行旅游和休闲活动，同时也确保了国家安全和经济利益。申请者需要准备好所有必要的文件，并了解最新的政策变化，以确保他们的旅行计划顺利进行。'}\n",
      "{'query': '为这个句子生成表示以用于检索相关文章：AI产品市场前景分析', 'pos': '在人工智能领域，AI产品正在成为主流。随着技术的不断进步和应用的广泛，AI产品市场前景广阔。未来几年内，AI产品将会在医疗、教育、金融等多个行业中发挥重要作用。根据最新市场报告，AI产品的市场规模预计将以每年30%以上的速度增长。', 'neg_0': '虽然目前人工智能技术仍处于发展阶段，但其在特定领域的应用已经显示出巨大潜力。例如，在智能客服、语音识别等方面，AI技术的应用已经得到了广泛认可。然而，在其他一些领域，如自然语言处理、机器学习等，AI技术的应用还面临着许多挑战和困难。'}\n"
     ]
    }
   ],
   "source": [
    "for i in train_dataset[:2]:\n",
    "    print(i)\n"
   ]
  },
  {
   "cell_type": "code",
   "execution_count": 15,
   "metadata": {},
   "outputs": [],
   "source": [
    "loss = MultipleNegativesRankingLoss(model)"
   ]
  },
  {
   "cell_type": "code",
   "execution_count": 23,
   "metadata": {},
   "outputs": [],
   "source": [
    "args = SentenceTransformerTrainingArguments(\n",
    "    # Required parameter:\n",
    "    output_dir=\"../checkpoint/bge-small-zh-v1.5-sft\",\n",
    "    num_train_epochs=1,\n",
    "    per_device_train_batch_size=32,\n",
    "    per_device_eval_batch_size=32,\n",
    "    gradient_accumulation_steps=16, # global batch size = 32 * 16 = 512\n",
    "    learning_rate=2e-5,\n",
    "    warmup_ratio=0.1,\n",
    "    fp16=False,  # Set to False if you get an error that your GPU can't run on FP16\n",
    "    bf16=True,  # Set to True if you have a GPU that supports BF16\n",
    "    batch_sampler=BatchSamplers.NO_DUPLICATES,  # MultipleNegativesRankingLoss benefits from no duplicate samples in a batch\n",
    "    # Optional tracking/debugging parameters:\n",
    "    eval_strategy=\"steps\",\n",
    "    eval_steps=20,\n",
    "    save_strategy=\"steps\",\n",
    "    save_steps=100000,\n",
    "    save_total_limit=1,\n",
    "    logging_steps=20,\n",
    "    seed=42,\n",
    "    lr_scheduler_type=\"cosine\",\n",
    "    optim=\"adamw_torch_fused\",\n",
    ")"
   ]
  },
  {
   "cell_type": "code",
   "execution_count": 24,
   "metadata": {},
   "outputs": [
    {
     "name": "stderr",
     "output_type": "stream",
     "text": [
      "/home/cynic/miniconda3/envs/embedding/lib/python3.10/site-packages/sentence_transformers/trainer.py:205: FutureWarning: `tokenizer` is deprecated and will be removed in version 5.0.0 for `CustomSentenceTransformerTrainer.__init__`. Use `processing_class` instead.\n",
      "  super().__init__(\n"
     ]
    },
    {
     "data": {
      "text/html": [
       "\n",
       "    <div>\n",
       "      \n",
       "      <progress value='357' max='357' style='width:300px; height:20px; vertical-align: middle;'></progress>\n",
       "      [357/357 04:48, Epoch 0/1]\n",
       "    </div>\n",
       "    <table border=\"1\" class=\"dataframe\">\n",
       "  <thead>\n",
       " <tr style=\"text-align: left;\">\n",
       "      <th>Step</th>\n",
       "      <th>Training Loss</th>\n",
       "      <th>Validation Loss</th>\n",
       "    </tr>\n",
       "  </thead>\n",
       "  <tbody>\n",
       "    <tr>\n",
       "      <td>20</td>\n",
       "      <td>0.649200</td>\n",
       "      <td>0.057490</td>\n",
       "    </tr>\n",
       "    <tr>\n",
       "      <td>40</td>\n",
       "      <td>0.571300</td>\n",
       "      <td>0.057718</td>\n",
       "    </tr>\n",
       "    <tr>\n",
       "      <td>60</td>\n",
       "      <td>0.675100</td>\n",
       "      <td>0.056017</td>\n",
       "    </tr>\n",
       "    <tr>\n",
       "      <td>80</td>\n",
       "      <td>0.658000</td>\n",
       "      <td>0.057280</td>\n",
       "    </tr>\n",
       "    <tr>\n",
       "      <td>100</td>\n",
       "      <td>0.664500</td>\n",
       "      <td>0.055631</td>\n",
       "    </tr>\n",
       "    <tr>\n",
       "      <td>120</td>\n",
       "      <td>0.585500</td>\n",
       "      <td>0.056261</td>\n",
       "    </tr>\n",
       "    <tr>\n",
       "      <td>140</td>\n",
       "      <td>0.744400</td>\n",
       "      <td>0.055054</td>\n",
       "    </tr>\n",
       "    <tr>\n",
       "      <td>160</td>\n",
       "      <td>0.773000</td>\n",
       "      <td>0.053215</td>\n",
       "    </tr>\n",
       "    <tr>\n",
       "      <td>180</td>\n",
       "      <td>0.889300</td>\n",
       "      <td>0.050928</td>\n",
       "    </tr>\n",
       "    <tr>\n",
       "      <td>200</td>\n",
       "      <td>0.974400</td>\n",
       "      <td>0.051949</td>\n",
       "    </tr>\n",
       "    <tr>\n",
       "      <td>220</td>\n",
       "      <td>0.888000</td>\n",
       "      <td>0.052030</td>\n",
       "    </tr>\n",
       "    <tr>\n",
       "      <td>240</td>\n",
       "      <td>0.952200</td>\n",
       "      <td>0.051615</td>\n",
       "    </tr>\n",
       "    <tr>\n",
       "      <td>260</td>\n",
       "      <td>0.863200</td>\n",
       "      <td>0.051964</td>\n",
       "    </tr>\n",
       "    <tr>\n",
       "      <td>280</td>\n",
       "      <td>0.949400</td>\n",
       "      <td>0.051252</td>\n",
       "    </tr>\n",
       "    <tr>\n",
       "      <td>300</td>\n",
       "      <td>0.901200</td>\n",
       "      <td>0.051058</td>\n",
       "    </tr>\n",
       "    <tr>\n",
       "      <td>320</td>\n",
       "      <td>0.848900</td>\n",
       "      <td>0.051053</td>\n",
       "    </tr>\n",
       "    <tr>\n",
       "      <td>340</td>\n",
       "      <td>0.895800</td>\n",
       "      <td>0.051032</td>\n",
       "    </tr>\n",
       "  </tbody>\n",
       "</table><p>"
      ],
      "text/plain": [
       "<IPython.core.display.HTML object>"
      ]
     },
     "metadata": {},
     "output_type": "display_data"
    },
    {
     "name": "stderr",
     "output_type": "stream",
     "text": [
      "Trainer.tokenizer is now deprecated. You should use Trainer.processing_class instead.\n",
      "Trainer.tokenizer is now deprecated. You should use Trainer.processing_class instead.\n"
     ]
    },
    {
     "data": {
      "text/plain": [
       "TrainOutput(global_step=357, training_loss=0.7954315084035323, metrics={'train_runtime': 289.7227, 'train_samples_per_second': 631.566, 'train_steps_per_second': 1.232, 'total_flos': 0.0, 'train_loss': 0.7954315084035323, 'epoch': 0.9987760097919217})"
      ]
     },
     "execution_count": 24,
     "metadata": {},
     "output_type": "execute_result"
    }
   ],
   "source": [
    "import torch\n",
    "from typing import Any\n",
    "\n",
    "# fix transformer not compatible with sentence_transformers\n",
    "class CustomSentenceTransformerTrainer(SentenceTransformerTrainer):\n",
    "    def compute_loss(\n",
    "        self,\n",
    "        model: SentenceTransformer,\n",
    "        inputs: dict[str, torch.Tensor | Any],\n",
    "        return_outputs: bool = False,\n",
    "        num_items_in_batch: int = None,\n",
    "    ) -> torch.Tensor | tuple[torch.Tensor, dict[str, Any]]:\n",
    "        return super().compute_loss(model, inputs, return_outputs)\n",
    "       \n",
    "    \n",
    "trainer = CustomSentenceTransformerTrainer(\n",
    "    model=model,\n",
    "    args=args,\n",
    "    train_dataset=datasets.Dataset.from_list(train_dataset).select_columns(\n",
    "        dataset_keys\n",
    "    ),\n",
    "    eval_dataset=datasets.Dataset.from_list(eval_dataset).select_columns(\n",
    "        dataset_keys\n",
    "    ),\n",
    "    loss=loss,\n",
    ")\n",
    "trainer.train()"
   ]
  },
  {
   "cell_type": "code",
   "execution_count": 27,
   "metadata": {},
   "outputs": [],
   "source": [
    "model.save(\"../checkpoint/bge-small-zh-v1.5-sft\")"
   ]
  }
 ],
 "metadata": {
  "kernelspec": {
   "display_name": "embedding",
   "language": "python",
   "name": "python3"
  },
  "language_info": {
   "codemirror_mode": {
    "name": "ipython",
    "version": 3
   },
   "file_extension": ".py",
   "mimetype": "text/x-python",
   "name": "python",
   "nbconvert_exporter": "python",
   "pygments_lexer": "ipython3",
   "version": "3.10.15"
  }
 },
 "nbformat": 4,
 "nbformat_minor": 2
}
