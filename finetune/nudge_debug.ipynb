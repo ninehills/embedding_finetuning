{
 "cells": [
  {
   "cell_type": "code",
   "execution_count": 1,
   "metadata": {},
   "outputs": [
    {
     "name": "stdout",
     "output_type": "stream",
     "text": [
      "fatal: destination path 'nudge' already exists and is not an empty directory.\n",
      "/mnt/e/ResiloSync/notebook/embedding_finetuning/finetune/nudge\n"
     ]
    }
   ],
   "source": [
    "!git clone https://github.com/szeighami/nudge.git\n",
    "%cd nudge"
   ]
  },
  {
   "cell_type": "code",
   "execution_count": 2,
   "metadata": {},
   "outputs": [],
   "source": [
    "import sys\n",
    "sys.path.append('../../')"
   ]
  },
  {
   "cell_type": "code",
   "execution_count": 3,
   "metadata": {},
   "outputs": [],
   "source": [
    "from eval.dataset import RAGDataset\n"
   ]
  },
  {
   "cell_type": "code",
   "execution_count": 4,
   "metadata": {},
   "outputs": [],
   "source": [
    "rag_ds = RAGDataset.from_file('../../data/infgrad_retrieval_data_llm.json')"
   ]
  },
  {
   "cell_type": "code",
   "execution_count": 5,
   "metadata": {},
   "outputs": [
    {
     "name": "stderr",
     "output_type": "stream",
     "text": [
      "/home/cynic/miniconda3/envs/embedding/lib/python3.10/site-packages/sentence_transformers/cross_encoder/CrossEncoder.py:13: TqdmWarning: IProgress not found. Please update jupyter and ipywidgets. See https://ipywidgets.readthedocs.io/en/stable/user_install.html\n",
      "  from tqdm.autonotebook import tqdm, trange\n"
     ]
    }
   ],
   "source": [
    "from nudge import NUDGEM, NUDGEN\n",
    "from util.knnretriever import kNNRetriever\n",
    "from util.utils import calc_metrics_batch, load_hf_datasets, embed_data_and_query_sets"
   ]
  },
  {
   "cell_type": "code",
   "execution_count": 8,
   "metadata": {},
   "outputs": [],
   "source": [
    "import pandas as pd\n",
    "corpus_keys = list(rag_ds.corpus.keys())\n",
    "corpus_key_to_id = {}\n",
    "corpus = []\n",
    "for id, key in enumerate(corpus_keys[:10000]):\n",
    "    corpus_key_to_id[key] = id\n",
    "    corpus.append(dict(\n",
    "        doc_id=key,\n",
    "        text=rag_ds.corpus[key],\n",
    "        passage_id=0,\n",
    "        record_id=id\n",
    "    ))\n",
    "\n",
    "dataset = pd.DataFrame.from_records(corpus)"
   ]
  },
  {
   "cell_type": "code",
   "execution_count": 10,
   "metadata": {},
   "outputs": [],
   "source": [
    "query_sets = {}\n",
    "for split in rag_ds.queries_split:\n",
    "    query_sets[split] = {}\n",
    "    q_df = []\n",
    "    q_ans_indx = []\n",
    "    for id, query_key in enumerate(rag_ds.queries_split[split]):\n",
    "        rel_docs = rag_ds.relevant_docs[query_key]\n",
    "        rel_doc_ids = [corpus_key_to_id[doc_id] for doc_id in rel_docs if doc_id in corpus_key_to_id]\n",
    "        if not rel_doc_ids:\n",
    "            continue\n",
    "        q_ans_indx.append(rel_doc_ids)\n",
    "        q_df.append(dict(\n",
    "            q_id=id,\n",
    "            input=rag_ds.queries[query_key],\n",
    "        ))\n",
    "    query_sets[split]['q_df'] = pd.DataFrame.from_records(q_df)\n",
    "    query_sets[split]['q_ans_indx'] = q_ans_indx\n",
    "\n",
    "query_sets['test'] = query_sets['val']\n",
    "del query_sets['val']\n",
    "\n",
    "# split train to train and dev\n",
    "# 将训练集分割为训练集和开发集\n",
    "from sklearn.model_selection import train_test_split\n",
    "\n",
    "train_q_df, dev_q_df, train_ans_indx, dev_ans_indx = train_test_split(\n",
    "    query_sets['train']['q_df'], \n",
    "    query_sets['train']['q_ans_indx'],\n",
    "    test_size=0.5,  # 50% 作为开发集\n",
    "    random_state=42  # 设置随机种子以确保可重复性\n",
    ")\n",
    "\n",
    "\n",
    "query_sets['train'] = {\n",
    "    'q_df': train_q_df,\n",
    "    'q_ans_indx': train_ans_indx\n",
    "}\n",
    "\n",
    "query_sets['dev'] = {\n",
    "    'q_df': dev_q_df,\n",
    "    'q_ans_indx': dev_ans_indx\n",
    "}"
   ]
  },
  {
   "cell_type": "code",
   "execution_count": 14,
   "metadata": {},
   "outputs": [
    {
     "data": {
      "text/plain": [
       "2480"
      ]
     },
     "execution_count": 14,
     "metadata": {},
     "output_type": "execute_result"
    }
   ],
   "source": [
    "len(query_sets['dev']['q_ans_indx'])"
   ]
  },
  {
   "cell_type": "code",
   "execution_count": 15,
   "metadata": {},
   "outputs": [
    {
     "name": "stdout",
     "output_type": "stream",
     "text": [
      "embedding data\n"
     ]
    },
    {
     "name": "stderr",
     "output_type": "stream",
     "text": [
      "Batches: 100%|██████████| 313/313 [00:02<00:00, 130.61it/s]\n"
     ]
    },
    {
     "name": "stdout",
     "output_type": "stream",
     "text": [
      "embedding qs train\n"
     ]
    },
    {
     "name": "stderr",
     "output_type": "stream",
     "text": [
      "Batches: 100%|██████████| 78/78 [00:00<00:00, 229.66it/s]\n"
     ]
    },
    {
     "name": "stdout",
     "output_type": "stream",
     "text": [
      "embedding qs dev\n"
     ]
    },
    {
     "name": "stderr",
     "output_type": "stream",
     "text": [
      "Batches: 100%|██████████| 78/78 [00:00<00:00, 222.43it/s]\n"
     ]
    },
    {
     "name": "stdout",
     "output_type": "stream",
     "text": [
      "embedding qs test\n"
     ]
    },
    {
     "name": "stderr",
     "output_type": "stream",
     "text": [
      "Batches: 100%|██████████| 2/2 [00:00<00:00, 198.78it/s]\n"
     ]
    }
   ],
   "source": [
    "data_emb, query_sets = embed_data_and_query_sets(dataset, query_sets, \"BAAI/bge-small-zh-v1.5\")"
   ]
  },
  {
   "cell_type": "code",
   "execution_count": 16,
   "metadata": {},
   "outputs": [
    {
     "name": "stdout",
     "output_type": "stream",
     "text": [
      "Calculating G\n",
      "Finding gamma\n"
     ]
    }
   ],
   "source": [
    "nudgen =  NUDGEN()\n",
    "new_embs_nudgen = nudgen.finetune_embeddings(data_emb, query_sets['train'], query_sets['dev'])\n",
    "nudge_nret = kNNRetriever(new_embs_nudgen)\n",
    "nudge_n_res = nudge_nret.retrieve_topk_from_emb_batch(k=10, q_embeds=query_sets['test']['q_embs'])"
   ]
  },
  {
   "cell_type": "code",
   "execution_count": 17,
   "metadata": {},
   "outputs": [
    {
     "name": "stdout",
     "output_type": "stream",
     "text": [
      "Calculating G\n",
      "Finding gamma\n"
     ]
    }
   ],
   "source": [
    "nudgem =  NUDGEM()\n",
    "new_embs_nudgem = nudgem.finetune_embeddings(data_emb, query_sets['train'], query_sets['dev'])\n",
    "nudge_mret = kNNRetriever(new_embs_nudgem, dist_metric='dot')\n",
    "nudge_m_res = nudge_mret.retrieve_topk_from_emb_batch(k=10, q_embeds=query_sets['test']['q_embs'])"
   ]
  },
  {
   "cell_type": "markdown",
   "metadata": {},
   "source": []
  },
  {
   "cell_type": "code",
   "execution_count": 18,
   "metadata": {},
   "outputs": [],
   "source": [
    "no_ft_ret = kNNRetriever(data_emb)\n",
    "no_ft_res = no_ft_ret.retrieve_topk_from_emb_batch(k=10, q_embeds=query_sets['test']['q_embs'])"
   ]
  },
  {
   "cell_type": "code",
   "execution_count": 23,
   "metadata": {},
   "outputs": [
    {
     "name": "stdout",
     "output_type": "stream",
     "text": [
      "No Fine-Tuning recall@10: 95.6, ndcg@10: 90.7\n",
      "NUDGE-M recall@10: 95.6, ndcg@10: 90.7\n",
      "NUDGE-N recall@10: 95.6, ndcg@10: 90.7\n"
     ]
    }
   ],
   "source": [
    "metrics = [('recall',10), ('ndcg',10)]\n",
    "no_ft_accs = calc_metrics_batch(metrics,no_ft_res, query_sets['test']['q_ans_indx'])\n",
    "nudgem_accs = calc_metrics_batch(metrics,nudge_m_res, query_sets['test']['q_ans_indx'])\n",
    "nudgen_accs = calc_metrics_batch(metrics,nudge_n_res, query_sets['test']['q_ans_indx'])\n",
    "print(f\"No Fine-Tuning {metrics[0][0]}@{metrics[0][1]}: {no_ft_accs[0]*100:.1f}, {metrics[1][0]}@{metrics[1][1]}: {no_ft_accs[1]*100:.1f}\")\n",
    "print(f\"NUDGE-M {metrics[0][0]}@{metrics[0][1]}: {nudgem_accs[0]*100:.1f}, {metrics[1][0]}@{metrics[1][1]}: {nudgem_accs[1]*100:.1f}\")\n",
    "print(f\"NUDGE-N {metrics[0][0]}@{metrics[0][1]}: {nudgen_accs[0]*100:.1f}, {metrics[1][0]}@{metrics[1][1]}: {nudgen_accs[1]*100:.1f}\")"
   ]
  }
 ],
 "metadata": {
  "kernelspec": {
   "display_name": "embedding",
   "language": "python",
   "name": "python3"
  },
  "language_info": {
   "codemirror_mode": {
    "name": "ipython",
    "version": 3
   },
   "file_extension": ".py",
   "mimetype": "text/x-python",
   "name": "python",
   "nbconvert_exporter": "python",
   "pygments_lexer": "ipython3",
   "version": "3.10.15"
  }
 },
 "nbformat": 4,
 "nbformat_minor": 2
}
