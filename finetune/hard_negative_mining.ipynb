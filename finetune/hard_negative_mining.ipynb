{
 "cells": [
  {
   "cell_type": "code",
   "execution_count": 1,
   "metadata": {},
   "outputs": [],
   "source": [
    "import sys\n",
    "sys.path.append(\"..\")"
   ]
  },
  {
   "cell_type": "code",
   "execution_count": 2,
   "metadata": {},
   "outputs": [],
   "source": [
    "from eval.dataset import RAGDataset\n",
    "\n",
    "ds = RAGDataset.from_file(\"../data/airbench_qa_healthcare_zh_synthesis.json\")"
   ]
  },
  {
   "cell_type": "code",
   "execution_count": 5,
   "metadata": {},
   "outputs": [],
   "source": [
    "from eval.sentence_transformer_model import SentenceTransformerEncoder\n",
    "from eval.embedding_model import EmbeddingModelPreparer, EmbeddingModelRetriever\n",
    "\n",
    "\n",
    "embedding_model = SentenceTransformerEncoder(\n",
    "    model_name_or_path=\"BAAI/bge-small-zh-v1.5\",\n",
    "    normalize_embeddings=True,\n",
    "    query_instruction_for_retrieval=\"为这个句子生成表示以用于检索相关文章：\",\n",
    "    max_query_length=512,\n",
    "    max_passage_length=512,\n",
    ")\n",
    "\n",
    "preparer = EmbeddingModelPreparer(\n",
    "        embedding_model,\n",
    "        cache_dir=\"../.cache\",\n",
    "    )\n",
    "\n",
    "retriever = EmbeddingModelRetriever(\n",
    "        embedding_model, \n",
    "        search_top_k=100, # 搜索出 100 个候选负例\n",
    "    )"
   ]
  },
  {
   "cell_type": "code",
   "execution_count": 6,
   "metadata": {},
   "outputs": [
    {
     "name": "stdout",
     "output_type": "stream",
     "text": [
      ">>> Preparing corpus embeddings and faiss index...\n"
     ]
    },
    {
     "name": "stderr",
     "output_type": "stream",
     "text": [
      "Chunks: 100%|██████████| 4/4 [00:00<00:00,  8.75it/s]\n",
      "`embedding_function` is expected to be an Embeddings object, support for passing in a function will soon be removed.\n"
     ]
    }
   ],
   "source": [
    "print(\">>> Preparing corpus embeddings and faiss index...\")\n",
    "vectorstore = preparer(ds.corpus)"
   ]
  },
  {
   "cell_type": "code",
   "execution_count": 7,
   "metadata": {},
   "outputs": [
    {
     "name": "stdout",
     "output_type": "stream",
     "text": [
      ">>> Retrieving...\n"
     ]
    },
    {
     "name": "stderr",
     "output_type": "stream",
     "text": [
      "Chunks: 100%|██████████| 10/10 [00:01<00:00,  9.46it/s]\n",
      "Retrieving: 100%|██████████| 9810/9810 [02:41<00:00, 60.60it/s]\n"
     ]
    }
   ],
   "source": [
    "print(\">>> Retrieving...\")\n",
    "to_retrieve_queries = ds.get_queries_split(\"train\")\n",
    "retriever_result = retriever(vectorstore=vectorstore,\n",
    "            queries=to_retrieve_queries)"
   ]
  },
  {
   "cell_type": "code",
   "execution_count": 10,
   "metadata": {},
   "outputs": [
    {
     "name": "stdout",
     "output_type": "stream",
     "text": [
      ">>> Hard negative mining...\n",
      ">>> Total negative docs: 147150\n"
     ]
    }
   ],
   "source": [
    "print(\">>> Hard negative mining...\")\n",
    "# 从 [50:100] 中随机选择 15个文档作为负例，从50开始是避免之前的 embedding 模型识别不太好\n",
    "import random\n",
    "random.seed(42)\n",
    "negative_docs_count = 0 \n",
    "for query_id, docs in retriever_result.items():\n",
    "    relevant_doc_ids = ds.relevant_docs[query_id]\n",
    "    if len(relevant_doc_ids) == 0:\n",
    "        continue\n",
    "    doc_ids = [doc_id for doc_id, _ in docs]\n",
    "    negative_docs = random.sample(doc_ids[50:], 15)\n",
    "    negative_docs_count += len(negative_docs)\n",
    "    ds.negative_docs[query_id] = negative_docs\n",
    "print(f\">>> Total negative docs: {negative_docs_count}\")"
   ]
  },
  {
   "cell_type": "code",
   "execution_count": 11,
   "metadata": {},
   "outputs": [],
   "source": [
    "ds.save(\"../data/airbench_qa_healthcare_zh_synthesis_hard_negative.json\")"
   ]
  }
 ],
 "metadata": {
  "kernelspec": {
   "display_name": "embedding",
   "language": "python",
   "name": "python3"
  },
  "language_info": {
   "codemirror_mode": {
    "name": "ipython",
    "version": 3
   },
   "file_extension": ".py",
   "mimetype": "text/x-python",
   "name": "python",
   "nbconvert_exporter": "python",
   "pygments_lexer": "ipython3",
   "version": "3.10.15"
  }
 },
 "nbformat": 4,
 "nbformat_minor": 2
}
